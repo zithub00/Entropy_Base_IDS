{
 "cells": [
  {
   "cell_type": "markdown",
   "metadata": {},
   "source": [
    "<div>\n",
    "    <h2> Network Intrusion Detection using Linear Models, GBDT Ensembles and Deep Learning - A comparative study using state-of-the-art tools and libraries </h2>\n",
    "    <p> In this study, we use the <a href='https://www.unb.ca/cic/datasets/nsl.html'>NSL KDD dataset</a> to predict the probability of occurence of 23 different classes of attacks on a network. Here, we use three different categories of models - Linear Models including Logistic Regression and Stochastic Gradient Descent (SGD) classifier; Gradient Boosting Decision Tree emsembles including LightGBM (LGBM) and XGBoost; and a Deep Neural Network (DNN) classifier. We also train a stacked model consisting of all these models as base learners. Finally, we compare the performances of all the models for Network Intrusion Detection using the NSL-KDD dataset and draw useful conclusions.</p>\n",
    "</div>"
   ]
  },
  {
   "cell_type": "code",
   "execution_count": 41,
   "metadata": {
    "_cell_guid": "b1076dfc-b9ad-4769-8c92-a6c4dae69d19",
    "_uuid": "8f2839f25d086af736a60e9eeb907d3b93b6e0e5"
   },
   "outputs": [],
   "source": [
    "# import required packages\n",
    "\n",
    "import pandas as pd \n",
    "import numpy as np\n",
    "import math, os, re, gc, time, warnings\n",
    "from tqdm import tqdm\n",
    "\n",
    "from entropy_calculator import ddosDetection\n",
    "from scapy.all import *\n",
    "import time\n",
    "\n",
    "from sklearn.preprocessing import LabelEncoder\n",
    "import matplotlib.pyplot as plt\n",
    "\n",
    "\n",
    "\n",
    "%matplotlib inline\n",
    "\n",
    "# settings\n",
    "os.environ['OMP_NUM_THREADS'] = '4'\n",
    "start_time = time.time()\n",
    "\n",
    "\n",
    "warnings.filterwarnings(\"ignore\")\n",
    "\n",
    "pd.set_option('display.max_row', 100)\n",
    "pd.set_option('display.max_columns', 100)"
   ]
  },
  {
   "cell_type": "code",
   "execution_count": 2,
   "metadata": {},
   "outputs": [
    {
     "data": {
      "text/plain": [
       "'\\n# 다음과 같은 정규화 식으로 출력하기에는 너무 오래 걸려서 이부분은 파이참 코드로 따로 돌림\\n\\nimport pandas as pd\\nimport numpy as np\\nimport math, os, re, gc, time, warnings\\nfrom tqdm import tqdm\\n\\n\\nstart_time = time.time()\\nwarnings.filterwarnings(\"ignore\")\\npd.set_option(\\'display.max_row\\', 100)\\npd.set_option(\\'display.max_columns\\', 100)\\n\\n\\n\\ndata = pd.read_csv(\\'god.csv\\')\\n\\n\\nidx_nm=data[((data[\\'Protocol\\']==\\'TCP\\') | (data[\\'Protocol\\']==\\'UDP\\') | (data[\\'Protocol\\']==\\'ICMP\\'))].index #or\\'TCP\\'or\\'UDP\\'\\ndata= data.loc[idx_nm]\\n\\ndata[\\'Source Port\\']=np.nan\\ndata[\\'Destination Port\\']=np.nan\\n\\nm=re.compile(r\\'[0-9]{0,6}\\\\s{2}>\\\\s{2}[0-9]{0,6}\\')\\n\\n#for i in tqdm(range(100)):\\nfor i in tqdm(range(data.shape[0])):\\n    port_labelging_1=re.findall(\"[0-9]{0,6}\\\\s{2}>\\\\s{2}[0-9]{0,6}\", data.iloc[i][\\'Info\\'])\\n    port_labelging_2=\\'\\'.join(port_labelging_1)\\n    port_labelging_3=port_labelging_2.split(\\'  \\')\\n    #print(port_labelging_3[0], port_labelging_3[-1])\\n    #data.loc[i, \\'Source Port\\']=port_labelging_3[0]\\n    #data.loc[i, \\'Destination Port\\']=port_labelging_3[-1]\\n    data.iloc[i, 7]=port_labelging_3[0]\\n    data.iloc[i, 8]=port_labelging_3[-1]\\n\\n\\n\\n#data2=data.loc[:100]\\n#data2.to_csv(\\'god2.csv\\', index=False)\\ndata.to_csv(\\'god2.csv\\', index=False)\\n\\n'"
      ]
     },
     "execution_count": 2,
     "metadata": {},
     "output_type": "execute_result"
    }
   ],
   "source": [
    "'''\n",
    "# 다음과 같은 정규화 식으로 출력하기에는 너무 오래 걸려서 이부분은 파이참 코드로 따로 돌림\n",
    "\n",
    "import pandas as pd\n",
    "import numpy as np\n",
    "import math, os, re, gc, time, warnings\n",
    "from tqdm import tqdm\n",
    "\n",
    "\n",
    "start_time = time.time()\n",
    "warnings.filterwarnings(\"ignore\")\n",
    "pd.set_option('display.max_row', 100)\n",
    "pd.set_option('display.max_columns', 100)\n",
    "\n",
    "\n",
    "\n",
    "data = pd.read_csv('god.csv')\n",
    "\n",
    "\n",
    "idx_nm=data[((data['Protocol']=='TCP') | (data['Protocol']=='UDP') | (data['Protocol']=='ICMP'))].index #or'TCP'or'UDP'\n",
    "data= data.loc[idx_nm]\n",
    "\n",
    "data['Source Port']=np.nan\n",
    "data['Destination Port']=np.nan\n",
    "\n",
    "m=re.compile(r'[0-9]{0,6}\\s{2}>\\s{2}[0-9]{0,6}')\n",
    "\n",
    "#for i in tqdm(range(100)):\n",
    "for i in tqdm(range(data.shape[0])):\n",
    "    port_labelging_1=re.findall(\"[0-9]{0,6}\\s{2}>\\s{2}[0-9]{0,6}\", data.iloc[i]['Info'])\n",
    "    port_labelging_2=''.join(port_labelging_1)\n",
    "    port_labelging_3=port_labelging_2.split('  ')\n",
    "    #print(port_labelging_3[0], port_labelging_3[-1])\n",
    "    #data.loc[i, 'Source Port']=port_labelging_3[0]\n",
    "    #data.loc[i, 'Destination Port']=port_labelging_3[-1]\n",
    "    data.iloc[i, 7]=port_labelging_3[0]\n",
    "    data.iloc[i, 8]=port_labelging_3[-1]\n",
    "\n",
    "\n",
    "\n",
    "#data2=data.loc[:100]\n",
    "#data2.to_csv('god2.csv', index=False)\n",
    "data.to_csv('god2.csv', index=False)\n",
    "\n",
    "'''"
   ]
  },
  {
   "cell_type": "code",
   "execution_count": 3,
   "metadata": {},
   "outputs": [],
   "source": [
    "#특정 프로토콜만 남기고, info에서 Source Port, Destination Port  추출하고 2번째로 저장\n",
    "#data.to_csv('god2.csv',index=False)\n",
    "#data = pd.read_csv('god2.csv')"
   ]
  },
  {
   "cell_type": "code",
   "execution_count": 4,
   "metadata": {
    "scrolled": false
   },
   "outputs": [
    {
     "data": {
      "text/html": [
       "<div>\n",
       "<style scoped>\n",
       "    .dataframe tbody tr th:only-of-type {\n",
       "        vertical-align: middle;\n",
       "    }\n",
       "\n",
       "    .dataframe tbody tr th {\n",
       "        vertical-align: top;\n",
       "    }\n",
       "\n",
       "    .dataframe thead th {\n",
       "        text-align: right;\n",
       "    }\n",
       "</style>\n",
       "<table border=\"1\" class=\"dataframe\">\n",
       "  <thead>\n",
       "    <tr style=\"text-align: right;\">\n",
       "      <th></th>\n",
       "      <th>No.</th>\n",
       "      <th>Time</th>\n",
       "      <th>Source</th>\n",
       "      <th>Destination</th>\n",
       "      <th>Protocol</th>\n",
       "      <th>Length</th>\n",
       "      <th>Info</th>\n",
       "      <th>Source Port</th>\n",
       "      <th>Destination Port</th>\n",
       "    </tr>\n",
       "  </thead>\n",
       "  <tbody>\n",
       "    <tr>\n",
       "      <th>0</th>\n",
       "      <td>49</td>\n",
       "      <td>0.197691</td>\n",
       "      <td>192.168.10.14</td>\n",
       "      <td>40.83.143.209</td>\n",
       "      <td>TCP</td>\n",
       "      <td>60</td>\n",
       "      <td>49461  &gt;  443 [ACK] Seq=1 Ack=870 Win=258 Len=0</td>\n",
       "      <td>49461.0</td>\n",
       "      <td>443.0</td>\n",
       "    </tr>\n",
       "    <tr>\n",
       "      <th>1</th>\n",
       "      <td>74</td>\n",
       "      <td>0.364188</td>\n",
       "      <td>192.168.10.14</td>\n",
       "      <td>40.83.143.209</td>\n",
       "      <td>TCP</td>\n",
       "      <td>1494</td>\n",
       "      <td>49460  &gt;  443 [ACK] Seq=278 Ack=1 Win=258 Len=...</td>\n",
       "      <td>49460.0</td>\n",
       "      <td>443.0</td>\n",
       "    </tr>\n",
       "    <tr>\n",
       "      <th>2</th>\n",
       "      <td>88</td>\n",
       "      <td>0.450603</td>\n",
       "      <td>40.83.143.209</td>\n",
       "      <td>192.168.10.14</td>\n",
       "      <td>TCP</td>\n",
       "      <td>60</td>\n",
       "      <td>443  &gt;  49460 [ACK] Seq=1 Ack=1718 Win=513 Len=0</td>\n",
       "      <td>443.0</td>\n",
       "      <td>49460.0</td>\n",
       "    </tr>\n",
       "    <tr>\n",
       "      <th>3</th>\n",
       "      <td>89</td>\n",
       "      <td>0.450863</td>\n",
       "      <td>40.83.143.209</td>\n",
       "      <td>192.168.10.14</td>\n",
       "      <td>TCP</td>\n",
       "      <td>60</td>\n",
       "      <td>443  &gt;  49460 [ACK] Seq=1 Ack=3915 Win=513 Len=0</td>\n",
       "      <td>443.0</td>\n",
       "      <td>49460.0</td>\n",
       "    </tr>\n",
       "    <tr>\n",
       "      <th>4</th>\n",
       "      <td>205</td>\n",
       "      <td>0.908536</td>\n",
       "      <td>192.168.10.14</td>\n",
       "      <td>40.83.143.209</td>\n",
       "      <td>TCP</td>\n",
       "      <td>60</td>\n",
       "      <td>49460  &gt;  443 [ACK] Seq=3915 Ack=310 Win=257 L...</td>\n",
       "      <td>49460.0</td>\n",
       "      <td>443.0</td>\n",
       "    </tr>\n",
       "    <tr>\n",
       "      <th>5</th>\n",
       "      <td>248</td>\n",
       "      <td>1.024147</td>\n",
       "      <td>192.168.10.14</td>\n",
       "      <td>40.83.143.209</td>\n",
       "      <td>TCP</td>\n",
       "      <td>1494</td>\n",
       "      <td>49461  &gt;  443 [ACK] Seq=278 Ack=870 Win=258 Le...</td>\n",
       "      <td>49461.0</td>\n",
       "      <td>443.0</td>\n",
       "    </tr>\n",
       "    <tr>\n",
       "      <th>6</th>\n",
       "      <td>272</td>\n",
       "      <td>1.110482</td>\n",
       "      <td>40.83.143.209</td>\n",
       "      <td>192.168.10.14</td>\n",
       "      <td>TCP</td>\n",
       "      <td>60</td>\n",
       "      <td>443  &gt;  49461 [ACK] Seq=870 Ack=1718 Win=513 L...</td>\n",
       "      <td>443.0</td>\n",
       "      <td>49461.0</td>\n",
       "    </tr>\n",
       "    <tr>\n",
       "      <th>7</th>\n",
       "      <td>273</td>\n",
       "      <td>1.110848</td>\n",
       "      <td>40.83.143.209</td>\n",
       "      <td>192.168.10.14</td>\n",
       "      <td>TCP</td>\n",
       "      <td>60</td>\n",
       "      <td>443  &gt;  49461 [ACK] Seq=870 Ack=3883 Win=513 L...</td>\n",
       "      <td>443.0</td>\n",
       "      <td>49461.0</td>\n",
       "    </tr>\n",
       "    <tr>\n",
       "      <th>8</th>\n",
       "      <td>320</td>\n",
       "      <td>1.477442</td>\n",
       "      <td>192.168.10.14</td>\n",
       "      <td>40.83.143.209</td>\n",
       "      <td>TCP</td>\n",
       "      <td>60</td>\n",
       "      <td>49461  &gt;  443 [ACK] Seq=3883 Ack=1739 Win=255 ...</td>\n",
       "      <td>49461.0</td>\n",
       "      <td>443.0</td>\n",
       "    </tr>\n",
       "    <tr>\n",
       "      <th>9</th>\n",
       "      <td>322</td>\n",
       "      <td>1.519729</td>\n",
       "      <td>192.168.10.12</td>\n",
       "      <td>192.168.10.3</td>\n",
       "      <td>TCP</td>\n",
       "      <td>466</td>\n",
       "      <td>[TCP Retransmission] 59656  &gt;  3268 [PSH, ACK]...</td>\n",
       "      <td>59656.0</td>\n",
       "      <td>3268.0</td>\n",
       "    </tr>\n",
       "  </tbody>\n",
       "</table>\n",
       "</div>"
      ],
      "text/plain": [
       "   No.      Time         Source    Destination Protocol  Length  \\\n",
       "0   49  0.197691  192.168.10.14  40.83.143.209      TCP      60   \n",
       "1   74  0.364188  192.168.10.14  40.83.143.209      TCP    1494   \n",
       "2   88  0.450603  40.83.143.209  192.168.10.14      TCP      60   \n",
       "3   89  0.450863  40.83.143.209  192.168.10.14      TCP      60   \n",
       "4  205  0.908536  192.168.10.14  40.83.143.209      TCP      60   \n",
       "5  248  1.024147  192.168.10.14  40.83.143.209      TCP    1494   \n",
       "6  272  1.110482  40.83.143.209  192.168.10.14      TCP      60   \n",
       "7  273  1.110848  40.83.143.209  192.168.10.14      TCP      60   \n",
       "8  320  1.477442  192.168.10.14  40.83.143.209      TCP      60   \n",
       "9  322  1.519729  192.168.10.12   192.168.10.3      TCP     466   \n",
       "\n",
       "                                                Info  Source Port  \\\n",
       "0    49461  >  443 [ACK] Seq=1 Ack=870 Win=258 Len=0      49461.0   \n",
       "1  49460  >  443 [ACK] Seq=278 Ack=1 Win=258 Len=...      49460.0   \n",
       "2   443  >  49460 [ACK] Seq=1 Ack=1718 Win=513 Len=0        443.0   \n",
       "3   443  >  49460 [ACK] Seq=1 Ack=3915 Win=513 Len=0        443.0   \n",
       "4  49460  >  443 [ACK] Seq=3915 Ack=310 Win=257 L...      49460.0   \n",
       "5  49461  >  443 [ACK] Seq=278 Ack=870 Win=258 Le...      49461.0   \n",
       "6  443  >  49461 [ACK] Seq=870 Ack=1718 Win=513 L...        443.0   \n",
       "7  443  >  49461 [ACK] Seq=870 Ack=3883 Win=513 L...        443.0   \n",
       "8  49461  >  443 [ACK] Seq=3883 Ack=1739 Win=255 ...      49461.0   \n",
       "9  [TCP Retransmission] 59656  >  3268 [PSH, ACK]...      59656.0   \n",
       "\n",
       "   Destination Port  \n",
       "0             443.0  \n",
       "1             443.0  \n",
       "2           49460.0  \n",
       "3           49460.0  \n",
       "4             443.0  \n",
       "5             443.0  \n",
       "6           49461.0  \n",
       "7           49461.0  \n",
       "8             443.0  \n",
       "9            3268.0  "
      ]
     },
     "execution_count": 4,
     "metadata": {},
     "output_type": "execute_result"
    }
   ],
   "source": [
    "data.head(10)"
   ]
  },
  {
   "cell_type": "code",
   "execution_count": 5,
   "metadata": {},
   "outputs": [],
   "source": [
    "data[\"len_Separation_128\"] = np.nan\n",
    "#구간 목록 만들기 \n",
    "len_Separation_128 =list(range(0,65537,128))\n",
    "#구간별 라벨링 이름 만들기\n",
    "len_Separation_128_label = [str(x)+\" ~ \"+str(x+128) for x in len_Separation_128]\n",
    "#데이터 길이별 라벨링\n",
    "data[\"len_Separation_128\"] = pd.cut(data[\"Length\"], len_Separation_128, right=False, labels=len_Separation_128_label[:-1])"
   ]
  },
  {
   "cell_type": "code",
   "execution_count": 6,
   "metadata": {},
   "outputs": [],
   "source": [
    "#2에서 데이터 길이별 라벨링해서 저장\n",
    "#data.to_csv('god3.csv',index=False)"
   ]
  },
  {
   "cell_type": "code",
   "execution_count": 7,
   "metadata": {
    "scrolled": false
   },
   "outputs": [
    {
     "data": {
      "text/html": [
       "<div>\n",
       "<style scoped>\n",
       "    .dataframe tbody tr th:only-of-type {\n",
       "        vertical-align: middle;\n",
       "    }\n",
       "\n",
       "    .dataframe tbody tr th {\n",
       "        vertical-align: top;\n",
       "    }\n",
       "\n",
       "    .dataframe thead th {\n",
       "        text-align: right;\n",
       "    }\n",
       "</style>\n",
       "<table border=\"1\" class=\"dataframe\">\n",
       "  <thead>\n",
       "    <tr style=\"text-align: right;\">\n",
       "      <th></th>\n",
       "      <th>Time</th>\n",
       "      <th>Source IP</th>\n",
       "      <th>Destination IP</th>\n",
       "      <th>Protocol</th>\n",
       "      <th>Source Port</th>\n",
       "      <th>Destination Port</th>\n",
       "      <th>len_Separation_128</th>\n",
       "    </tr>\n",
       "  </thead>\n",
       "  <tbody>\n",
       "    <tr>\n",
       "      <th>0</th>\n",
       "      <td>0.197691</td>\n",
       "      <td>192.168.10.14</td>\n",
       "      <td>40.83.143.209</td>\n",
       "      <td>TCP</td>\n",
       "      <td>49461.0</td>\n",
       "      <td>443.0</td>\n",
       "      <td>0 ~ 128</td>\n",
       "    </tr>\n",
       "    <tr>\n",
       "      <th>1</th>\n",
       "      <td>0.364188</td>\n",
       "      <td>192.168.10.14</td>\n",
       "      <td>40.83.143.209</td>\n",
       "      <td>TCP</td>\n",
       "      <td>49460.0</td>\n",
       "      <td>443.0</td>\n",
       "      <td>1408 ~ 1536</td>\n",
       "    </tr>\n",
       "    <tr>\n",
       "      <th>2</th>\n",
       "      <td>0.450603</td>\n",
       "      <td>40.83.143.209</td>\n",
       "      <td>192.168.10.14</td>\n",
       "      <td>TCP</td>\n",
       "      <td>443.0</td>\n",
       "      <td>49460.0</td>\n",
       "      <td>0 ~ 128</td>\n",
       "    </tr>\n",
       "    <tr>\n",
       "      <th>3</th>\n",
       "      <td>0.450863</td>\n",
       "      <td>40.83.143.209</td>\n",
       "      <td>192.168.10.14</td>\n",
       "      <td>TCP</td>\n",
       "      <td>443.0</td>\n",
       "      <td>49460.0</td>\n",
       "      <td>0 ~ 128</td>\n",
       "    </tr>\n",
       "    <tr>\n",
       "      <th>4</th>\n",
       "      <td>0.908536</td>\n",
       "      <td>192.168.10.14</td>\n",
       "      <td>40.83.143.209</td>\n",
       "      <td>TCP</td>\n",
       "      <td>49460.0</td>\n",
       "      <td>443.0</td>\n",
       "      <td>0 ~ 128</td>\n",
       "    </tr>\n",
       "    <tr>\n",
       "      <th>...</th>\n",
       "      <td>...</td>\n",
       "      <td>...</td>\n",
       "      <td>...</td>\n",
       "      <td>...</td>\n",
       "      <td>...</td>\n",
       "      <td>...</td>\n",
       "      <td>...</td>\n",
       "    </tr>\n",
       "    <tr>\n",
       "      <th>11248688</th>\n",
       "      <td>30452.476199</td>\n",
       "      <td>192.168.10.14</td>\n",
       "      <td>192.168.10.3</td>\n",
       "      <td>TCP</td>\n",
       "      <td>58669.0</td>\n",
       "      <td>445.0</td>\n",
       "      <td>128 ~ 256</td>\n",
       "    </tr>\n",
       "    <tr>\n",
       "      <th>11248689</th>\n",
       "      <td>30452.476248</td>\n",
       "      <td>192.168.10.3</td>\n",
       "      <td>192.168.10.14</td>\n",
       "      <td>TCP</td>\n",
       "      <td>445.0</td>\n",
       "      <td>58669.0</td>\n",
       "      <td>384 ~ 512</td>\n",
       "    </tr>\n",
       "    <tr>\n",
       "      <th>11248690</th>\n",
       "      <td>30452.476299</td>\n",
       "      <td>192.168.10.3</td>\n",
       "      <td>192.168.10.14</td>\n",
       "      <td>TCP</td>\n",
       "      <td>445.0</td>\n",
       "      <td>58669.0</td>\n",
       "      <td>256 ~ 384</td>\n",
       "    </tr>\n",
       "    <tr>\n",
       "      <th>11248691</th>\n",
       "      <td>30452.476386</td>\n",
       "      <td>192.168.10.14</td>\n",
       "      <td>192.168.10.3</td>\n",
       "      <td>TCP</td>\n",
       "      <td>58669.0</td>\n",
       "      <td>445.0</td>\n",
       "      <td>0 ~ 128</td>\n",
       "    </tr>\n",
       "    <tr>\n",
       "      <th>11248692</th>\n",
       "      <td>30452.476434</td>\n",
       "      <td>192.168.10.14</td>\n",
       "      <td>192.168.10.3</td>\n",
       "      <td>TCP</td>\n",
       "      <td>58669.0</td>\n",
       "      <td>445.0</td>\n",
       "      <td>0 ~ 128</td>\n",
       "    </tr>\n",
       "  </tbody>\n",
       "</table>\n",
       "<p>11248693 rows × 7 columns</p>\n",
       "</div>"
      ],
      "text/plain": [
       "                  Time      Source IP Destination IP Protocol  Source Port  \\\n",
       "0             0.197691  192.168.10.14  40.83.143.209      TCP      49461.0   \n",
       "1             0.364188  192.168.10.14  40.83.143.209      TCP      49460.0   \n",
       "2             0.450603  40.83.143.209  192.168.10.14      TCP        443.0   \n",
       "3             0.450863  40.83.143.209  192.168.10.14      TCP        443.0   \n",
       "4             0.908536  192.168.10.14  40.83.143.209      TCP      49460.0   \n",
       "...                ...            ...            ...      ...          ...   \n",
       "11248688  30452.476199  192.168.10.14   192.168.10.3      TCP      58669.0   \n",
       "11248689  30452.476248   192.168.10.3  192.168.10.14      TCP        445.0   \n",
       "11248690  30452.476299   192.168.10.3  192.168.10.14      TCP        445.0   \n",
       "11248691  30452.476386  192.168.10.14   192.168.10.3      TCP      58669.0   \n",
       "11248692  30452.476434  192.168.10.14   192.168.10.3      TCP      58669.0   \n",
       "\n",
       "          Destination Port len_Separation_128  \n",
       "0                    443.0            0 ~ 128  \n",
       "1                    443.0        1408 ~ 1536  \n",
       "2                  49460.0            0 ~ 128  \n",
       "3                  49460.0            0 ~ 128  \n",
       "4                    443.0            0 ~ 128  \n",
       "...                    ...                ...  \n",
       "11248688             445.0          128 ~ 256  \n",
       "11248689           58669.0          384 ~ 512  \n",
       "11248690           58669.0          256 ~ 384  \n",
       "11248691             445.0            0 ~ 128  \n",
       "11248692             445.0            0 ~ 128  \n",
       "\n",
       "[11248693 rows x 7 columns]"
      ]
     },
     "execution_count": 7,
     "metadata": {},
     "output_type": "execute_result"
    }
   ],
   "source": [
    "data=data[['Time', 'Source','Destination','Protocol','Source Port','Destination Port', 'len_Separation_128']]\n",
    "data.rename(columns={'Source':'Source IP', 'Destination':'Destination IP'})"
   ]
  },
  {
   "cell_type": "code",
   "execution_count": null,
   "metadata": {},
   "outputs": [],
   "source": []
  },
  {
   "cell_type": "code",
   "execution_count": null,
   "metadata": {},
   "outputs": [],
   "source": []
  },
  {
   "cell_type": "code",
   "execution_count": null,
   "metadata": {},
   "outputs": [],
   "source": []
  },
  {
   "cell_type": "code",
   "execution_count": null,
   "metadata": {},
   "outputs": [],
   "source": []
  },
  {
   "cell_type": "code",
   "execution_count": null,
   "metadata": {},
   "outputs": [],
   "source": []
  },
  {
   "cell_type": "code",
   "execution_count": null,
   "metadata": {},
   "outputs": [],
   "source": []
  },
  {
   "cell_type": "code",
   "execution_count": 99,
   "metadata": {},
   "outputs": [],
   "source": [
    "#3에서 실험에 쓸 자료만 남기고 다시 저장\n",
    "#data.to_csv('god4.csv',index=False)\n",
    "data = pd.read_csv('god4.csv')"
   ]
  },
  {
   "cell_type": "code",
   "execution_count": 100,
   "metadata": {},
   "outputs": [],
   "source": [
    "#기존 오브제특 형태인 ip address 를 제거, 나머지 데이터 라벨 인코더\n",
    "encoder = LabelEncoder()\n",
    "\n",
    "# 기존 포트 번호를 라벨링으로 생성\n",
    "en_col=['Source Port' , 'Destination Port', 'Protocol','Source IP', 'Destination IP', 'len_Separation_128']\n",
    "for i in en_col:\n",
    "    data[i] = encoder.fit_transform(data[i])\n",
    "    "
   ]
  },
  {
   "cell_type": "code",
   "execution_count": 101,
   "metadata": {},
   "outputs": [],
   "source": [
    "data=data[:100000]"
   ]
  },
  {
   "cell_type": "code",
   "execution_count": 106,
   "metadata": {},
   "outputs": [
    {
     "name": "stderr",
     "output_type": "stream",
     "text": [
      "100%|█████████████████████████████████████████████████████████████████████████████| 1000/1000 [00:05<00:00, 192.91it/s]\n"
     ]
    }
   ],
   "source": [
    "entropy_SP_store=[]\n",
    "entropy_DP_store=[]\n",
    "entropy_SIP_store=[]\n",
    "entropy_DIP_store=[]\n",
    "entropy_LEN_store=[]\n",
    "\n",
    "for i in tqdm(range(0,len(data),100)):\n",
    "    ds=data.loc[i:i+100]\n",
    "\n",
    "    unique_SP=ds['Source Port'].unique()\n",
    "    unique_DP=ds['Destination Port'].unique()   \n",
    "    unique_SIP=ds['Source IP'].unique()\n",
    "    unique_DIP=ds['Destination IP'].unique()\n",
    "    unique_LEN=ds['len_Separation_128'].unique()    \n",
    "\n",
    "\n",
    "    entropy_SP = []\n",
    "    for j in unique_SP:\n",
    "        un_j = len(ds[ds['Source Port']==j])/len(ds)\n",
    "        entropy_SP.append(-un_j * math.log2(un_j))\n",
    "        \n",
    "\n",
    "    entropy_DP = []\n",
    "    for j in unique_DP:\n",
    "        un_j = len(ds[ds['Destination Port']==j])/len(ds)\n",
    "        entropy_DP.append(-un_j * math.log2(un_j))\n",
    "    \n",
    "    entropy_SIP = []\n",
    "    for j in unique_SIP:\n",
    "        un_j = len(ds[ds['Source IP']==j])/len(ds)\n",
    "        entropy_SIP.append(-un_j * math.log2(un_j))\n",
    "        \n",
    "\n",
    "    entropy_DIP = []\n",
    "    for j in unique_DIP:\n",
    "        un_j = len(ds[ds['Destination IP']==j])/len(ds)\n",
    "        entropy_DIP.append(-un_j * math.log2(un_j))\n",
    "        \n",
    "        \n",
    "\n",
    "    entropy_LEN = []\n",
    "    for j in unique_LEN:\n",
    "        un_j = len(ds[ds['len_Separation_128']==j])/len(ds)\n",
    "        entropy_LEN.append(-un_j * math.log2(un_j))\n",
    "\n",
    "    entropy_LEN_store.append(sum(entropy_LEN)) \n",
    "    entropy_SIP_store.append(sum(entropy_SIP))\n",
    "    entropy_DIP_store.append(sum(entropy_DIP)) \n",
    "    entropy_SP_store.append(sum(entropy_SP))\n",
    "    entropy_DP_store.append(sum(entropy_DP))   \n",
    "   #print(i,\"번째\",sum(entropy_SP),sum(entropy_DP))  "
   ]
  },
  {
   "cell_type": "code",
   "execution_count": null,
   "metadata": {},
   "outputs": [],
   "source": [
    "de_ip = ddosDetection()\n",
    "so_ip = ddosDetection()\n",
    "de_port = ddosDetection()\n",
    "so_port = ddosDetection()\n",
    "len=ddosDetection()"
   ]
  },
  {
   "cell_type": "code",
   "execution_count": 107,
   "metadata": {},
   "outputs": [
    {
     "data": {
      "image/png": "[encoded data removed]",
      "text/plain": [
       "<Figure size 432x288 with 1 Axes>"
      ]
     },
     "metadata": {
      "needs_background": "light"
     },
     "output_type": "display_data"
    },
    {
     "data": {
      "image/png": "[encoded data removed]",
      "text/plain": [
       "<Figure size 432x288 with 1 Axes>"
      ]
     },
     "metadata": {
      "needs_background": "light"
     },
     "output_type": "display_data"
    },
    {
     "data": {
      "image/png": "[encoded data removed]",
      "text/plain": [
       "<Figure size 432x288 with 1 Axes>"
      ]
     },
     "metadata": {
      "needs_background": "light"
     },
     "output_type": "display_data"
    },
    {
     "data": {
      "image/png": "[encoded data removed]",
      "text/plain": [
       "<Figure size 432x288 with 1 Axes>"
      ]
     },
     "metadata": {
      "needs_background": "light"
     },
     "output_type": "display_data"
    },
    {
     "data": {
      "image/png": "[encoded data removed]",
      "text/plain": [
       "<Figure size 432x288 with 1 Axes>"
      ]
     },
     "metadata": {
      "needs_background": "light"
     },
     "output_type": "display_data"
    }
   ],
   "source": [
    "plt.plot(entropy_SP_store)\n",
    "plt.show()\n",
    "\n",
    "plt.plot(entropy_DP_store)\n",
    "plt.show()\n",
    "\n",
    "plt.plot(entropy_SIP_store)\n",
    "plt.show()\n",
    "\n",
    "plt.plot(entropy_DIP_store)\n",
    "plt.show()\n",
    "\n",
    "plt.plot(entropy_LEN_store)\n",
    "plt.show()"
   ]
  },
  {
   "cell_type": "code",
   "execution_count": null,
   "metadata": {},
   "outputs": [],
   "source": [
    "def ids(a,b,c)\n",
    "    if <a<\n",
    "    \n",
    "    \n",
    "def entropy_average(a,b,c)\n",
    "    a"
   ]
  }
 ],
 "metadata": {
  "kernelspec": {
   "display_name": "Python 3",
   "language": "python",
   "name": "python3"
  },
  "language_info": {
   "codemirror_mode": {
    "name": "ipython",
    "version": 3
   },
   "file_extension": ".py",
   "mimetype": "text/x-python",
   "name": "python",
   "nbconvert_exporter": "python",
   "pygments_lexer": "ipython3",
   "version": "3.8.8"
  }
 },
 "nbformat": 4,
 "nbformat_minor": 1
}
